{
 "cells": [
  {
   "cell_type": "code",
   "execution_count": 3,
   "metadata": {},
   "outputs": [],
   "source": [
    "import pandas as pd"
   ]
  },
  {
   "cell_type": "code",
   "execution_count": 4,
   "metadata": {},
   "outputs": [],
   "source": [
    "df = pd.read_csv('csv/output_man.csv')"
   ]
  },
  {
   "cell_type": "code",
   "execution_count": 18,
   "metadata": {},
   "outputs": [
    {
     "name": "stdout",
     "output_type": "stream",
     "text": [
      "['羊毛混紡大衣', '深米色', '單排扣大衣，羊毛混紡毛氈布料，缺口翻領，正面鈕扣開襟，有嵌線斜側袋。衣袖有內裡。', '聚酯纖維 78%, 羊毛 22%']\n",
      "名稱                                      羊毛混紡大衣\n",
      "價格                                    NT$1,999\n",
      "顏色                                         深米色\n",
      "成分    單排扣大衣，羊毛混紡毛氈布料，缺口翻領，正面鈕扣開襟，有嵌線斜側袋。衣袖有內裡。\n",
      "描述                            聚酯纖維 78%, 羊毛 22%\n",
      "路徑                          image/hm/man/1.jpg\n",
      "Name: 0, dtype: object\n",
      "['標準剪裁連帽上衣', '黑色/Red Hot Chili Peppers', '長袖連帽上衣，柔軟汗衫布料布料，雙層連衣帽有抽繩，正面交疊設計。有袋鼠袋，羅紋袖口和下襬。', '棉 63%, 聚酯纖維 37%']\n",
      "名稱                                         標準剪裁連帽上衣\n",
      "價格                                           NT$799\n",
      "顏色                         黑色/Red Hot Chili Peppers\n",
      "成分    長袖連帽上衣，柔軟汗衫布料布料，雙層連衣帽有抽繩，正面交疊設計。有袋鼠袋，羅紋袖口和下襬。\n",
      "描述                                  棉 63%, 聚酯纖維 37%\n",
      "路徑                               image/hm/man/2.jpg\n",
      "Name: 1, dtype: object\n"
     ]
    }
   ],
   "source": [
    "for index, row in df.iloc[:2].iterrows():\n",
    "    \n",
    "    # 從每一行中提取第 1 個和第 3 個元素（基於 0 的索引，所以是索引 0 和 2）\n",
    "    elements = [row.iloc[0],row.iloc[2],row.iloc[3], row.iloc[4]]\n",
    "    print(elements)\n",
    "    print(row)"
   ]
  },
  {
   "cell_type": "code",
   "execution_count": null,
   "metadata": {},
   "outputs": [],
   "source": [
    "values_list = ['值1', '值2']\n",
    "\n",
    "\n",
    "# 使用特定的填充值（例如 None）來擴展 values_list\n",
    "values_list.extend([None] * (len(df) - len(values_list)))\n",
    "\n",
    "# 在 df 中添加新列 'abc'，並使用擴展後的值\n",
    "df['abc'] = values_list"
   ]
  },
  {
   "cell_type": "code",
   "execution_count": null,
   "metadata": {},
   "outputs": [],
   "source": []
  }
 ],
 "metadata": {
  "kernelspec": {
   "display_name": "base",
   "language": "python",
   "name": "python3"
  },
  "language_info": {
   "codemirror_mode": {
    "name": "ipython",
    "version": 3
   },
   "file_extension": ".py",
   "mimetype": "text/x-python",
   "name": "python",
   "nbconvert_exporter": "python",
   "pygments_lexer": "ipython3",
   "version": "3.9.12"
  }
 },
 "nbformat": 4,
 "nbformat_minor": 2
}
